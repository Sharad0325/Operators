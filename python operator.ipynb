{
 "cells": [
  {
   "cell_type": "code",
   "execution_count": 2,
   "id": "004d850f-0380-4299-ba19-10f74e2cdc0c",
   "metadata": {},
   "outputs": [
    {
     "data": {
      "text/plain": [
       "16"
      ]
     },
     "execution_count": 2,
     "metadata": {},
     "output_type": "execute_result"
    }
   ],
   "source": [
    "#Calculate the sum, difference, product, and quotient of two numbers.\n",
    "a = 7\n",
    "b = 9\n",
    "a+b"
   ]
  },
  {
   "cell_type": "code",
   "execution_count": 4,
   "id": "b8747718-edc9-4344-8efb-3d9226fc52db",
   "metadata": {},
   "outputs": [
    {
     "data": {
      "text/plain": [
       "-2"
      ]
     },
     "execution_count": 4,
     "metadata": {},
     "output_type": "execute_result"
    }
   ],
   "source": [
    "a-b"
   ]
  },
  {
   "cell_type": "code",
   "execution_count": 6,
   "id": "5e9f4dd2-b440-4b3a-b204-73ce8af66e7f",
   "metadata": {},
   "outputs": [
    {
     "data": {
      "text/plain": [
       "63"
      ]
     },
     "execution_count": 6,
     "metadata": {},
     "output_type": "execute_result"
    }
   ],
   "source": [
    "a*b"
   ]
  },
  {
   "cell_type": "code",
   "execution_count": 8,
   "id": "9256703d-515d-4679-a327-67e6980c5935",
   "metadata": {},
   "outputs": [
    {
     "data": {
      "text/plain": [
       "0.7777777777777778"
      ]
     },
     "execution_count": 8,
     "metadata": {},
     "output_type": "execute_result"
    }
   ],
   "source": [
    "a/b"
   ]
  },
  {
   "cell_type": "code",
   "execution_count": 1,
   "id": "c95c42fa-6595-415d-909f-199155cf7a61",
   "metadata": {},
   "outputs": [
    {
     "data": {
      "text/plain": [
       "20"
      ]
     },
     "execution_count": 1,
     "metadata": {},
     "output_type": "execute_result"
    }
   ],
   "source": [
    "#Perform various assignment operations on a variable>> it's syntax is \"arithmatic operator and =\" means first perform operation(+,-,*,/ etc) then \n",
    "#outcome value assign to the variable. let see the example:-\n",
    "#without assignment operator\n",
    "x  = 12\n",
    "x+8"
   ]
  },
  {
   "cell_type": "code",
   "execution_count": 3,
   "id": "03f28fb8-4e0f-42b6-8c0a-fd45dfa5d976",
   "metadata": {},
   "outputs": [
    {
     "data": {
      "text/plain": [
       "12"
      ]
     },
     "execution_count": 3,
     "metadata": {},
     "output_type": "execute_result"
    }
   ],
   "source": [
    "x #x+8 perform but output not assign to variable now assignment operator come into the picture."
   ]
  },
  {
   "cell_type": "code",
   "execution_count": 15,
   "id": "4deeee06-acb7-4f13-9eee-e2dbe329bec1",
   "metadata": {},
   "outputs": [],
   "source": [
    "#with assignment operator\n",
    "y = 12\n",
    "y += 8"
   ]
  },
  {
   "cell_type": "code",
   "execution_count": 17,
   "id": "d3c8746c-c018-4595-bc94-05f0d8648d47",
   "metadata": {},
   "outputs": [
    {
     "data": {
      "text/plain": [
       "20"
      ]
     },
     "execution_count": 17,
     "metadata": {},
     "output_type": "execute_result"
    }
   ],
   "source": [
    "y #y+8 perform and also output assign to variable."
   ]
  },
  {
   "cell_type": "code",
   "execution_count": 19,
   "id": "66eda6ff-dee3-4e01-8e8b-abeb3b7db3c7",
   "metadata": {},
   "outputs": [],
   "source": [
    "y -= 8"
   ]
  },
  {
   "cell_type": "code",
   "execution_count": 21,
   "id": "ed10cd02-3df9-434a-8e86-6b10bae2a064",
   "metadata": {},
   "outputs": [
    {
     "data": {
      "text/plain": [
       "12"
      ]
     },
     "execution_count": 21,
     "metadata": {},
     "output_type": "execute_result"
    }
   ],
   "source": [
    "y"
   ]
  },
  {
   "cell_type": "code",
   "execution_count": 23,
   "id": "bb820e9e-82db-4f96-ba6d-e1e0125a46a9",
   "metadata": {},
   "outputs": [],
   "source": [
    "y /= 4"
   ]
  },
  {
   "cell_type": "code",
   "execution_count": 25,
   "id": "0e9ca19b-759f-4197-8a4a-ae6ecb548b9c",
   "metadata": {},
   "outputs": [
    {
     "data": {
      "text/plain": [
       "3.0"
      ]
     },
     "execution_count": 25,
     "metadata": {},
     "output_type": "execute_result"
    }
   ],
   "source": [
    "y"
   ]
  },
  {
   "cell_type": "code",
   "execution_count": 27,
   "id": "21b82742-dfee-4746-8363-86e7b381d917",
   "metadata": {},
   "outputs": [],
   "source": [
    "y *= 10"
   ]
  },
  {
   "cell_type": "code",
   "execution_count": 29,
   "id": "ef2c5648-08d4-4122-afd5-f0d109bc15cf",
   "metadata": {},
   "outputs": [
    {
     "data": {
      "text/plain": [
       "30.0"
      ]
     },
     "execution_count": 29,
     "metadata": {},
     "output_type": "execute_result"
    }
   ],
   "source": [
    "y"
   ]
  },
  {
   "cell_type": "code",
   "execution_count": 31,
   "id": "a5e0458c-b77f-41ea-87e6-38fab8f12392",
   "metadata": {},
   "outputs": [
    {
     "name": "stdout",
     "output_type": "stream",
     "text": [
      "c is less than d\n"
     ]
    }
   ],
   "source": [
    "#Compare two numbers and print the results.\n",
    "c = 12\n",
    "d = 15\n",
    "if c<d:\n",
    "    print(\"c is less than d\")"
   ]
  },
  {
   "cell_type": "code",
   "execution_count": 39,
   "id": "8d3c7941-e9c5-40d2-aad5-89dc7c70e985",
   "metadata": {},
   "outputs": [
    {
     "name": "stdout",
     "output_type": "stream",
     "text": [
      "c is greater than d\n"
     ]
    }
   ],
   "source": [
    "c = 12\n",
    "d = 10\n",
    "if c>d:\n",
    "    print(\"c is greater than d\")"
   ]
  },
  {
   "cell_type": "code",
   "execution_count": 43,
   "id": "762a44e9-fc07-4625-9877-51f933bf2beb",
   "metadata": {},
   "outputs": [
    {
     "name": "stdout",
     "output_type": "stream",
     "text": [
      "c is equal to d\n"
     ]
    }
   ],
   "source": [
    "c = 10\n",
    "d = 10\n",
    "if c==d:\n",
    "    print(\"c is equal to d\")"
   ]
  },
  {
   "cell_type": "code",
   "execution_count": 45,
   "id": "1e257f86-53ce-424d-a7ec-f46d772f2d09",
   "metadata": {},
   "outputs": [
    {
     "name": "stdout",
     "output_type": "stream",
     "text": [
      "eligible for loan\n"
     ]
    }
   ],
   "source": [
    "#Check conditions using logical operators.\n",
    "age = 22\n",
    "income = 1200\n",
    "if age>=18 or income>=15000: #one condition is true out of both result will be true.\n",
    "    print(\"eligible for loan\")\n",
    "else:\n",
    "    print(\"not eligible\")"
   ]
  },
  {
   "cell_type": "code",
   "execution_count": 47,
   "id": "39fbcaa5-5231-4728-8afe-ca5f3e7bc6e3",
   "metadata": {},
   "outputs": [
    {
     "name": "stdout",
     "output_type": "stream",
     "text": [
      "not eligible\n"
     ]
    }
   ],
   "source": [
    "if age>=18 and income>=15000: #both condition is true out of both result will be true.\n",
    "    print(\"eligible for loan\")\n",
    "else:\n",
    "    print(\"not eligible\")"
   ]
  },
  {
   "cell_type": "code",
   "execution_count": 49,
   "id": "1f0a7a56-2ce5-470c-a38b-3ffdc3e35038",
   "metadata": {},
   "outputs": [
    {
     "name": "stdout",
     "output_type": "stream",
     "text": [
      "your name is correct\n"
     ]
    }
   ],
   "source": [
    "name = False\n",
    "age = True\n",
    "if not name: #not give us opposite result means true convert to false and false convert to true. \n",
    "    print(\"your name is correct\") # false become true result printed.\n",
    "if not age:\n",
    "     print(\"your age is correct\") # true become false given code not executed."
   ]
  },
  {
   "cell_type": "code",
   "execution_count": 51,
   "id": "19bcf28b-0a82-41ee-910e-59b4016f113c",
   "metadata": {},
   "outputs": [
    {
     "data": {
      "text/plain": [
       "False"
      ]
     },
     "execution_count": 51,
     "metadata": {},
     "output_type": "execute_result"
    }
   ],
   "source": [
    "#Check the identity of variables>> two identity operators \"is\" and \"is not\" let see example:-\n",
    "name1  = \"raj\"\n",
    "name2  = \"jay\"\n",
    "name1 is name2"
   ]
  },
  {
   "cell_type": "code",
   "execution_count": 53,
   "id": "0d97953a-5de1-4d1b-8a5a-dc6f69ccb1da",
   "metadata": {},
   "outputs": [
    {
     "data": {
      "text/plain": [
       "True"
      ]
     },
     "execution_count": 53,
     "metadata": {},
     "output_type": "execute_result"
    }
   ],
   "source": [
    "name1 is not name2"
   ]
  },
  {
   "cell_type": "code",
   "execution_count": 55,
   "id": "578bd28d-6704-46d5-adb3-9f0a2170b913",
   "metadata": {},
   "outputs": [
    {
     "data": {
      "text/plain": [
       "True"
      ]
     },
     "execution_count": 55,
     "metadata": {},
     "output_type": "execute_result"
    }
   ],
   "source": [
    "age1  = 12\n",
    "age2  = 12\n",
    "age1 is age2"
   ]
  },
  {
   "cell_type": "code",
   "execution_count": 57,
   "id": "758f03bf-c7da-4a3e-8ed2-b99af16633d4",
   "metadata": {},
   "outputs": [
    {
     "data": {
      "text/plain": [
       "False"
      ]
     },
     "execution_count": 57,
     "metadata": {},
     "output_type": "execute_result"
    }
   ],
   "source": [
    "age1 is not age2"
   ]
  },
  {
   "cell_type": "code",
   "execution_count": 59,
   "id": "829ce71d-a3d8-4717-9511-cf6e8695c48f",
   "metadata": {},
   "outputs": [
    {
     "data": {
      "text/plain": [
       "0"
      ]
     },
     "execution_count": 59,
     "metadata": {},
     "output_type": "execute_result"
    }
   ],
   "source": [
    "#Perform bitwise operations on any two integers.\n",
    "e = 8 #bin(8) = 1000\n",
    "f = 3 #bin(3) = 0011\n",
    "e&f # & represents \"bitwise and\" operator>> both value have 1 then result will be 1 otherwise return will be 0."
   ]
  },
  {
   "cell_type": "code",
   "execution_count": 61,
   "id": "220031d8-9a87-400b-9ab9-2bbcd32629b8",
   "metadata": {},
   "outputs": [
    {
     "data": {
      "text/plain": [
       "11"
      ]
     },
     "execution_count": 61,
     "metadata": {},
     "output_type": "execute_result"
    }
   ],
   "source": [
    "e|f # | represents \"bitwise or\" operator>> one value have 1 then result will be 1 otherwise return will be 0.(bin(11) = 1011)"
   ]
  },
  {
   "cell_type": "code",
   "execution_count": 63,
   "id": "2dff0096-0bcc-4a77-9953-487984cf9a77",
   "metadata": {},
   "outputs": [
    {
     "data": {
      "text/plain": [
       "-9"
      ]
     },
     "execution_count": 63,
     "metadata": {},
     "output_type": "execute_result"
    }
   ],
   "source": [
    "~e # ~ represents \"bitwise not\" operator>> which change the sign + to - and - to + and increase value by 1."
   ]
  },
  {
   "cell_type": "code",
   "execution_count": 5,
   "id": "edc8552a-06fd-43c3-abae-aeec61eddb38",
   "metadata": {},
   "outputs": [
    {
     "data": {
      "text/plain": [
       "11"
      ]
     },
     "execution_count": 5,
     "metadata": {},
     "output_type": "execute_result"
    }
   ],
   "source": [
    "j = 8 #bin(8) = 1000\n",
    "k = 3 #bin(3) = 0011\n",
    "j^k # ^ represents \"bitwise Xor\" operator>> one value have 1 and other is 0 then result will be 1 otherwise return will be 0 when both value same.\n",
    "#(bin(11) = 1011)"
   ]
  },
  {
   "cell_type": "code",
   "execution_count": 15,
   "id": "a3ebbb72-5d87-494b-88c7-64bb87d43e49",
   "metadata": {},
   "outputs": [
    {
     "data": {
      "text/plain": [
       "64"
      ]
     },
     "execution_count": 15,
     "metadata": {},
     "output_type": "execute_result"
    }
   ],
   "source": [
    "#left shift(<<) - which adds 0 in last.\n",
    "#Right shift(>>) - which remove digit from last.\n",
    "j<<3 #bin(64) = 1000000"
   ]
  },
  {
   "cell_type": "code",
   "execution_count": 13,
   "id": "68d1cfd4-6c55-4bb8-8a6c-81dbd8eb3a4a",
   "metadata": {},
   "outputs": [
    {
     "data": {
      "text/plain": [
       "1"
      ]
     },
     "execution_count": 13,
     "metadata": {},
     "output_type": "execute_result"
    }
   ],
   "source": [
    "j>>3 #bin(1) = 1"
   ]
  },
  {
   "cell_type": "code",
   "execution_count": 25,
   "id": "7b4e2e40-cff5-4211-abd2-9109c9995c58",
   "metadata": {},
   "outputs": [
    {
     "data": {
      "text/plain": [
       "-95"
      ]
     },
     "execution_count": 25,
     "metadata": {},
     "output_type": "execute_result"
    }
   ],
   "source": [
    "#Use unary operators to change the sign of a number.\n",
    "m = 95\n",
    "n = -m\n",
    "n"
   ]
  },
  {
   "cell_type": "code",
   "execution_count": 29,
   "id": "2fcffb55-f79b-48f7-b34d-f5bf7138788f",
   "metadata": {},
   "outputs": [
    {
     "data": {
      "text/plain": [
       "40"
      ]
     },
     "execution_count": 29,
     "metadata": {},
     "output_type": "execute_result"
    }
   ],
   "source": [
    "v = -40\n",
    "x = -v\n",
    "x"
   ]
  },
  {
   "cell_type": "code",
   "execution_count": 35,
   "id": "c101693b-5c14-4961-8862-9918a3672690",
   "metadata": {},
   "outputs": [
    {
     "name": "stdout",
     "output_type": "stream",
     "text": [
      "a is greater than 10\n"
     ]
    }
   ],
   "source": [
    "#Use the ternary operator to assign values based on conditions.\n",
    "\n",
    "a = 15\n",
    "greater = \"a is greater than 10\" if a>10 else \"a is less than or equal to 10\"\n",
    "print(greater)"
   ]
  }
 ],
 "metadata": {
  "kernelspec": {
   "display_name": "Python 3 (ipykernel)",
   "language": "python",
   "name": "python3"
  },
  "language_info": {
   "codemirror_mode": {
    "name": "ipython",
    "version": 3
   },
   "file_extension": ".py",
   "mimetype": "text/x-python",
   "name": "python",
   "nbconvert_exporter": "python",
   "pygments_lexer": "ipython3",
   "version": "3.12.4"
  }
 },
 "nbformat": 4,
 "nbformat_minor": 5
}
